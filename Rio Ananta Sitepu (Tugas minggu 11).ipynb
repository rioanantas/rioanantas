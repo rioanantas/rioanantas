{
  "nbformat": 4,
  "nbformat_minor": 0,
  "metadata": {
    "colab": {
      "name": "Untitled0.ipynb",
      "provenance": [],
      "include_colab_link": true
    },
    "kernelspec": {
      "name": "python3",
      "display_name": "Python 3"
    }
  },
  "cells": [
    {
      "cell_type": "markdown",
      "metadata": {
        "id": "view-in-github",
        "colab_type": "text"
      },
      "source": [
        "<a href=\"https://colab.research.google.com/github/rioanantas/rioanantas/blob/main/Rio%20Ananta%20Sitepu%20(Tugas%20minggu%2011).ipynb\" target=\"_parent\"><img src=\"https://colab.research.google.com/assets/colab-badge.svg\" alt=\"Open In Colab\"/></a>"
      ]
    },
    {
      "cell_type": "code",
      "metadata": {
        "colab": {
          "base_uri": "https://localhost:8080/"
        },
        "id": "8LQfEX0gBoym",
        "outputId": "6f6df4ca-0e30-4a5a-d593-f72b0d566677"
      },
      "source": [
        "from google.colab import drive\n",
        "drive.mount('/content/drive')"
      ],
      "execution_count": 39,
      "outputs": [
        {
          "output_type": "stream",
          "text": [
            "Drive already mounted at /content/drive; to attempt to forcibly remount, call drive.mount(\"/content/drive\", force_remount=True).\n"
          ],
          "name": "stdout"
        }
      ]
    },
    {
      "cell_type": "code",
      "metadata": {
        "colab": {
          "base_uri": "https://localhost:8080/"
        },
        "id": "CZGNiDGtCFyB",
        "outputId": "3f7fc3cf-6ecc-4a96-eab2-9329f33b5443"
      },
      "source": [
        "cd/content/drive/MyDrive/Colab Notebooks"
      ],
      "execution_count": 40,
      "outputs": [
        {
          "output_type": "stream",
          "text": [
            "/content/drive/MyDrive/Colab Notebooks\n"
          ],
          "name": "stdout"
        }
      ]
    },
    {
      "cell_type": "code",
      "metadata": {
        "id": "osML8lVVDJx4",
        "colab": {
          "base_uri": "https://localhost:8080/"
        },
        "outputId": "eb7da9e9-22b6-465d-c3e3-a9a8510eaf85"
      },
      "source": [
        "ls"
      ],
      "execution_count": 41,
      "outputs": [
        {
          "output_type": "stream",
          "text": [
            "'Copy of Untitled0 (1).ipynb'   \u001b[0m\u001b[01;36mdataset\u001b[0m@   \u001b[01;34mmodel_scene\u001b[0m/\n",
            "'Copy of Untitled0.ipynb'       \u001b[01;34mDaun\u001b[0m/\n"
          ],
          "name": "stdout"
        }
      ]
    },
    {
      "cell_type": "code",
      "metadata": {
        "id": "rMDrYaWGDf_S"
      },
      "source": [
        "# import the necessary packages\n",
        "\n",
        "from keras.models import Sequential\n",
        "from keras.layers.core import Activation\n",
        "from keras.layers.core import Flatten\n",
        "from keras.layers.core import Dense \n",
        "from keras.optimizers import Adam\n",
        "from sklearn.preprocessing import LabelBinarizer\n",
        "from sklearn.model_selection import train_test_split\n",
        "from sklearn.metrics import classification_report\n",
        "from PIL import Image\n",
        "from imutils import paths \n",
        "import numpy as np\n",
        "import os"
      ],
      "execution_count": 42,
      "outputs": []
    },
    {
      "cell_type": "code",
      "metadata": {
        "colab": {
          "base_uri": "https://localhost:8080/"
        },
        "id": "Q9ITdZ_EDr__",
        "outputId": "d1b3cfeb-f892-4392-f786-f7b457c5b10d"
      },
      "source": [
        "# grab all image paths in the input dataset directory, then initialize\n",
        "\n",
        "# our list of images and corresponding class labels \n",
        "print(\"[INFO] loading images...\")\n",
        "imagePaths = paths.list_images(\"Daun\")\n",
        "data = []\n",
        "labels = []"
      ],
      "execution_count": 43,
      "outputs": [
        {
          "output_type": "stream",
          "text": [
            "[INFO] loading images...\n"
          ],
          "name": "stdout"
        }
      ]
    },
    {
      "cell_type": "code",
      "metadata": {
        "id": "nxnLYxnoD3Gv"
      },
      "source": [
        "# loop over our input images\n",
        "\n",
        "for imagePath in imagePaths:\n",
        "  # load the input image from disk, resize it to 64x64 pixels, scale \n",
        "  # the pixel intensities to the range [0, 1], and then update our\n",
        "  # images list\n",
        "  image = Image.open(imagePath)\n",
        "  #preprocessing\n",
        "  image = np.array(image.resize((128, 128))) / 255.0\n",
        "  data.append(image)\n",
        "\n",
        "  # extract the class label from the file path and update the\n",
        "  # labels list\n",
        "  label = imagePath.split(os.path. sep)[-2] \n",
        "  labels.append(label)"
      ],
      "execution_count": 44,
      "outputs": []
    },
    {
      "cell_type": "code",
      "metadata": {
        "colab": {
          "base_uri": "https://localhost:8080/"
        },
        "id": "RQ9loa4ED32R",
        "outputId": "ee8e1531-1944-4c54-c224-dfc95a9860c8"
      },
      "source": [
        "print(labels)"
      ],
      "execution_count": 45,
      "outputs": [
        {
          "output_type": "stream",
          "text": [
            "['GMB_02', 'GMB_02', 'GMB_02', 'GMB_02', 'GMB_02', 'GMB_02', 'GMB_02', 'GMB_02', 'GMB_02', 'GMB_02', 'GMB_02', 'GMB_02', 'GMB_02', 'GMB_02', 'GMB_02', 'GMB_02', 'GMB_02', 'GMB_02', 'GMB_02', 'GMB_02', 'GMB_02', 'GMB_02', 'GMB_02', 'GMB_02', 'GMB_02', 'GMB_02', 'GMB_02', 'GMB_02', 'GMB_02', 'GMB_02', 'GMB_02', 'GMB_02', 'GMB_02', 'GMB_02', 'GMB_02', 'GMB_02', 'GMB_02', 'GMB_02', 'GMB_02', 'GMB_02', 'GMB_02', 'GMB_02', 'GMB_02', 'GMB_02', 'GMB_02', 'GMB_02', 'GMB_02', 'GMB_02', 'GMB_02', 'GMB_02', 'GMB_02', 'GMB_02', 'GMB_02', 'GMB_02', 'GMB_02', 'GMB_02', 'GMB_02', 'GMB_02', 'GMB_02', 'GMB_02', 'GMB_02', 'GMB_02', 'GMB_02', 'GMB_02', 'GMB_02', 'GMB_02', 'GMB_02', 'GMB_02', 'GMB_02', 'GMB_02', 'GMB_02', 'GMB_02', 'GMB_02', 'GMB_02', 'GMB_02', 'GMB_02', 'GMB_02', 'GMB_02', 'GMB_02', 'GMB_02', 'GMB_02', 'GMB_02', 'GMB_02', 'GMB_02', 'GMB_02', 'GMB_02', 'GMB_02', 'GMB_02', 'GMB_02', 'GMB_02', 'GMB_02', 'GMB_02', 'GMB_02', 'GMB_02', 'GMB_02', 'GMB_02', 'GMB_02', 'GMB_02', 'GMB_02', 'GMB_02', 'GMB_02', 'GMB_02', 'GMB_02', 'GMB_02', 'GMB_02', 'GMB_02', 'GMB_02', 'GMB_02', 'GMB_02', 'GMB_02', 'GMB_02', 'GMB_02', 'GMB_02', 'GMB_01', 'GMB_01', 'GMB_01', 'GMB_01', 'GMB_01', 'GMB_01', 'GMB_01', 'GMB_01', 'GMB_01', 'GMB_01', 'GMB_01', 'GMB_01', 'GMB_01', 'GMB_01', 'GMB_01', 'GMB_01', 'GMB_01', 'GMB_01', 'GMB_01', 'GMB_01', 'GMB_01', 'GMB_01', 'GMB_01', 'GMB_01', 'GMB_01', 'GMB_01', 'GMB_01', 'GMB_01', 'GMB_01', 'GMB_01', 'GMB_01', 'GMB_01', 'GMB_01', 'GMB_01', 'GMB_01', 'GMB_01', 'GMB_01', 'GMB_01', 'GMB_01', 'GMB_01', 'GMB_01', 'GMB_01', 'GMB_01', 'GMB_01', 'GMB_01', 'GMB_01', 'GMB_01', 'GMB_01', 'GMB_01', 'GMB_01', 'GMB_01', 'GMB_01', 'GMB_01', 'GMB_01', 'GMB_01', 'GMB_01', 'GMB_01', 'GMB_01', 'GMB_01', 'GMB_01', 'GMB_01', 'GMB_01', 'GMB_01', 'GMB_01', 'GMB_01', 'GMB_01', 'GMB_01', 'GMB_01', 'GMB_01', 'GMB_01', 'GMB_01', 'GMB_01', 'GMB_01', 'GMB_01', 'GMB_01', 'GMB_01', 'GMB_01', 'GMB_01', 'GMB_01', 'GMB_01', 'GMB_01', 'GMB_01', 'GMB_01', 'GMB_01', 'GMB_01', 'GMB_01', 'GMB_01', 'GMB_01', 'GMB_01', 'GMB_01', 'GMB_01', 'GMB_01', 'GMB_01', 'GMB_01', 'GMB_01', 'GMB_01', 'GMB_01', 'GMB_01', 'GMB_01', 'GMB_01', 'GMB_01', 'GMB_01', 'GMB_01', 'GMB_01', 'GMB_01', 'GMB_01', 'GMB_01', 'GMB_01', 'GMB_01', 'GMB_01', 'GMB_01', 'GMB_01', 'GMB_01', 'GMB_01', 'GMB_01', 'GMB_01', 'GMB_05', 'GMB_05', 'GMB_05', 'GMB_05', 'GMB_05', 'GMB_05', 'GMB_05', 'GMB_05', 'GMB_05', 'GMB_05', 'GMB_05', 'GMB_05', 'GMB_05', 'GMB_05', 'GMB_05', 'GMB_05', 'GMB_05', 'GMB_05', 'GMB_05', 'GMB_05', 'GMB_05', 'GMB_05', 'GMB_05', 'GMB_05', 'GMB_05', 'GMB_05', 'GMB_05', 'GMB_05', 'GMB_05', 'GMB_05', 'GMB_05', 'GMB_05', 'GMB_05', 'GMB_05', 'GMB_05', 'GMB_05', 'GMB_05', 'GMB_05', 'GMB_05', 'GMB_05', 'GMB_05', 'GMB_05', 'GMB_05', 'GMB_05', 'GMB_05', 'GMB_05', 'GMB_05', 'GMB_05', 'GMB_05', 'GMB_05', 'GMB_05', 'GMB_05', 'GMB_05', 'GMB_05', 'GMB_05', 'GMB_05', 'GMB_05', 'GMB_05', 'GMB_05', 'GMB_05', 'GMB_05', 'GMB_05', 'GMB_05', 'GMB_05', 'GMB_05', 'GMB_05', 'GMB_05', 'GMB_05', 'GMB_05', 'GMB_05', 'GMB_05', 'GMB_05', 'GMB_05', 'GMB_05', 'GMB_05', 'GMB_05', 'GMB_05', 'GMB_05', 'GMB_05', 'GMB_05', 'GMB_05', 'GMB_05', 'GMB_05', 'GMB_05', 'GMB_05', 'GMB_05', 'GMB_05', 'GMB_05', 'GMB_05', 'GMB_05', 'GMB_05', 'GMB_05', 'GMB_05', 'GMB_05', 'GMB_05', 'GMB_05', 'GMB_05', 'GMB_05', 'GMB_05', 'GMB_05', 'GMB_05', 'GMB_05', 'GMB_05', 'GMB_05', 'GMB_05', 'GMB_05', 'GMB_05', 'GMB_05', 'GMB_05', 'GMB_05', 'GMB_05', 'GMB_05', 'GMB_05', 'GMB_05', 'GMB_05', 'GMB_05', 'GMB_05', 'GMB_05', 'GMB_05', 'GMB_05', 'GMB_05', 'GMB_03', 'GMB_03', 'GMB_03', 'GMB_03', 'GMB_03', 'GMB_03', 'GMB_03', 'GMB_03', 'GMB_03', 'GMB_03', 'GMB_03', 'GMB_03', 'GMB_03', 'GMB_03', 'GMB_03', 'GMB_03', 'GMB_03', 'GMB_03', 'GMB_03', 'GMB_03', 'GMB_03', 'GMB_03', 'GMB_03', 'GMB_03', 'GMB_03', 'GMB_03', 'GMB_03', 'GMB_03', 'GMB_03', 'GMB_03', 'GMB_03', 'GMB_03', 'GMB_03', 'GMB_03', 'GMB_03', 'GMB_03', 'GMB_03', 'GMB_03', 'GMB_03', 'GMB_03', 'GMB_03', 'GMB_03', 'GMB_03', 'GMB_03', 'GMB_03', 'GMB_03', 'GMB_03', 'GMB_03', 'GMB_03', 'GMB_03', 'GMB_03', 'GMB_03', 'GMB_03', 'GMB_03', 'GMB_03', 'GMB_03', 'GMB_03', 'GMB_03', 'GMB_03', 'GMB_03', 'GMB_03', 'GMB_03', 'GMB_03', 'GMB_03', 'GMB_03', 'GMB_03', 'GMB_03', 'GMB_03', 'GMB_03', 'GMB_03', 'GMB_03', 'GMB_03', 'GMB_03', 'GMB_03', 'GMB_03', 'GMB_03', 'GMB_03', 'GMB_03', 'GMB_03', 'GMB_03', 'GMB_03', 'GMB_03', 'GMB_03', 'GMB_03', 'GMB_03', 'GMB_03', 'GMB_03', 'GMB_03', 'GMB_03', 'GMB_03', 'GMB_03', 'GMB_03', 'GMB_03', 'GMB_03', 'GMB_03', 'GMB_03', 'GMB_03', 'GMB_03', 'GMB_03', 'GMB_03', 'GMB_03', 'GMB_03', 'GMB_03', 'GMB_03', 'GMB_03', 'GMB_03', 'GMB_03', 'GMB_03', 'GMB_03', 'GMB_03', 'GMB_03', 'GMB_03', 'GMB_04', 'GMB_04', 'GMB_04', 'GMB_04', 'GMB_04', 'GMB_04', 'GMB_04', 'GMB_04', 'GMB_04', 'GMB_04', 'GMB_04', 'GMB_04', 'GMB_04', 'GMB_04', 'GMB_04', 'GMB_04', 'GMB_04', 'GMB_04', 'GMB_04', 'GMB_04', 'GMB_04', 'GMB_04', 'GMB_04', 'GMB_04', 'GMB_04', 'GMB_04', 'GMB_04', 'GMB_04', 'GMB_04', 'GMB_04', 'GMB_04', 'GMB_04', 'GMB_04', 'GMB_04', 'GMB_04', 'GMB_04', 'GMB_04', 'GMB_04', 'GMB_04', 'GMB_04', 'GMB_04', 'GMB_04', 'GMB_04', 'GMB_04', 'GMB_04', 'GMB_04', 'GMB_04', 'GMB_04', 'GMB_04', 'GMB_04', 'GMB_04', 'GMB_04', 'GMB_04', 'GMB_04', 'GMB_04', 'GMB_04', 'GMB_04', 'GMB_04', 'GMB_04', 'GMB_04', 'GMB_04', 'GMB_04', 'GMB_04', 'GMB_04', 'GMB_04', 'GMB_04', 'GMB_04', 'GMB_04', 'GMB_04', 'GMB_04', 'GMB_04', 'GMB_04', 'GMB_04', 'GMB_04', 'GMB_04', 'GMB_04', 'GMB_04', 'GMB_04', 'GMB_04', 'GMB_04', 'GMB_04', 'GMB_04', 'GMB_04', 'GMB_04', 'GMB_04', 'GMB_04', 'GMB_04', 'GMB_04', 'GMB_04', 'GMB_04', 'GMB_04', 'GMB_04', 'GMB_04', 'GMB_04', 'GMB_04', 'GMB_04', 'GMB_04', 'GMB_04', 'GMB_04', 'GMB_04', 'GMB_04', 'GMB_04', 'GMB_04', 'GMB_04', 'GMB_04', 'GMB_04', 'GMB_04', 'GMB_04', 'GMB_04', 'GMB_04', 'GMB_04', 'GMB_04', 'GMB_04', 'GMB_04', 'GMB_04', 'GMB_04', 'GMB_04', 'GMB_04', 'GMB_04', 'GMB_04', 'GMB_04', 'GMB_04']\n"
          ],
          "name": "stdout"
        }
      ]
    },
    {
      "cell_type": "code",
      "metadata": {
        "id": "BvFJmR8vD5-T"
      },
      "source": [
        "# encode the labels, converting them from strings to integers \n",
        "lb = LabelBinarizer()\n",
        "labels = lb.fit_transform(labels)"
      ],
      "execution_count": 46,
      "outputs": []
    },
    {
      "cell_type": "code",
      "metadata": {
        "colab": {
          "base_uri": "https://localhost:8080/"
        },
        "id": "HQ_L4OcwEQ8T",
        "outputId": "16fadc93-647b-4c8a-db5b-8e095efc505e"
      },
      "source": [
        "print(labels)"
      ],
      "execution_count": 47,
      "outputs": [
        {
          "output_type": "stream",
          "text": [
            "[[0 1 0 0 0]\n",
            " [0 1 0 0 0]\n",
            " [0 1 0 0 0]\n",
            " ...\n",
            " [0 0 0 1 0]\n",
            " [0 0 0 1 0]\n",
            " [0 0 0 1 0]]\n"
          ],
          "name": "stdout"
        }
      ]
    },
    {
      "cell_type": "code",
      "metadata": {
        "colab": {
          "base_uri": "https://localhost:8080/"
        },
        "id": "cOrTavGVEfqv",
        "outputId": "7c0f8b40-5e07-45f7-b484-837a0da402db"
      },
      "source": [
        "# perform a troining and testing split, using 75% of the data for \n",
        "# training and 25% for evaluation\n",
        "\n",
        "(trainX, testX, trainY, testY) = train_test_split(np.array(data), np.array(labels), test_size=0.25, shuffle=True)\n",
        "print(trainX.shape)\n",
        "print(testX.shape)"
      ],
      "execution_count": 48,
      "outputs": [
        {
          "output_type": "stream",
          "text": [
            "(438, 128, 128, 3)\n",
            "(146, 128, 128, 3)\n"
          ],
          "name": "stdout"
        }
      ]
    },
    {
      "cell_type": "code",
      "metadata": {
        "id": "lrK3t241G2u2",
        "colab": {
          "base_uri": "https://localhost:8080/"
        },
        "outputId": "a1544d6e-efe2-4a79-ee02-22c6fbe7fd57"
      },
      "source": [
        "from keras.layers import Convolution2D, MaxPooling2D\n",
        "from keras.models import Sequential\n",
        "from keras.layers.core import Flatten, Dense\n",
        "\n",
        "model1 = Sequential()\n",
        "model1.add(Convolution2D(8, (3,3), activation='relu', input_shape=(128,128,3)))\n",
        "model1.add(MaxPooling2D(2,2))\n",
        "model1.add(Convolution2D(16, (3,3), activation='relu'))\n",
        "model1.add(MaxPooling2D(2,2))\n",
        "#fully connected layer\n",
        "model1.add(Flatten())\n",
        "model1.add(Dense(100, activation='relu'))\n",
        "model1.add(Dense(5, activation='softmax'))\n",
        "\n",
        "model1.summary()"
      ],
      "execution_count": 49,
      "outputs": [
        {
          "output_type": "stream",
          "text": [
            "Model: \"sequential_2\"\n",
            "_________________________________________________________________\n",
            "Layer (type)                 Output Shape              Param #   \n",
            "=================================================================\n",
            "conv2d_4 (Conv2D)            (None, 126, 126, 8)       224       \n",
            "_________________________________________________________________\n",
            "max_pooling2d_4 (MaxPooling2 (None, 63, 63, 8)         0         \n",
            "_________________________________________________________________\n",
            "conv2d_5 (Conv2D)            (None, 61, 61, 16)        1168      \n",
            "_________________________________________________________________\n",
            "max_pooling2d_5 (MaxPooling2 (None, 30, 30, 16)        0         \n",
            "_________________________________________________________________\n",
            "flatten_2 (Flatten)          (None, 14400)             0         \n",
            "_________________________________________________________________\n",
            "dense_4 (Dense)              (None, 100)               1440100   \n",
            "_________________________________________________________________\n",
            "dense_5 (Dense)              (None, 5)                 505       \n",
            "=================================================================\n",
            "Total params: 1,441,997\n",
            "Trainable params: 1,441,997\n",
            "Non-trainable params: 0\n",
            "_________________________________________________________________\n"
          ],
          "name": "stdout"
        }
      ]
    },
    {
      "cell_type": "code",
      "metadata": {
        "id": "9hmP4JjpGZO7",
        "colab": {
          "base_uri": "https://localhost:8080/"
        },
        "outputId": "9a5af3ff-8b0a-49be-d52b-26a49e4f3e15"
      },
      "source": [
        "# train the model using the Adam optimizer\n",
        "print(\"[INFO] training network...\")\n",
        "opt = Adam(lr=1e-3, decay=1e-3 / 50)\n",
        "model1.compile(loss=\"categorical_crossentropy\", optimizer=opt, metrics=[\"accuracy\"])"
      ],
      "execution_count": 50,
      "outputs": [
        {
          "output_type": "stream",
          "text": [
            "[INFO] training network...\n"
          ],
          "name": "stdout"
        }
      ]
    },
    {
      "cell_type": "code",
      "metadata": {
        "id": "goxuRjhYMZ1Q",
        "colab": {
          "base_uri": "https://localhost:8080/"
        },
        "outputId": "e8aae11d-256a-4598-aaab-70eeae27e90b"
      },
      "source": [
        "H = model1.fit(trainX, trainY, validation_data=(testX, testY), epochs=25, batch_size=32)"
      ],
      "execution_count": 51,
      "outputs": [
        {
          "output_type": "stream",
          "text": [
            "Epoch 1/25\n",
            "14/14 [==============================] - 4s 256ms/step - loss: 1.6202 - accuracy: 0.2877 - val_loss: 1.5151 - val_accuracy: 0.3151\n",
            "Epoch 2/25\n",
            "14/14 [==============================] - 3s 243ms/step - loss: 1.3519 - accuracy: 0.4932 - val_loss: 1.2828 - val_accuracy: 0.4726\n",
            "Epoch 3/25\n",
            "14/14 [==============================] - 3s 247ms/step - loss: 1.0403 - accuracy: 0.6301 - val_loss: 1.1402 - val_accuracy: 0.4521\n",
            "Epoch 4/25\n",
            "14/14 [==============================] - 3s 248ms/step - loss: 0.7885 - accuracy: 0.7100 - val_loss: 0.8451 - val_accuracy: 0.7055\n",
            "Epoch 5/25\n",
            "14/14 [==============================] - 3s 248ms/step - loss: 0.5863 - accuracy: 0.8196 - val_loss: 0.8943 - val_accuracy: 0.6644\n",
            "Epoch 6/25\n",
            "14/14 [==============================] - 3s 246ms/step - loss: 0.4840 - accuracy: 0.8288 - val_loss: 0.7274 - val_accuracy: 0.7055\n",
            "Epoch 7/25\n",
            "14/14 [==============================] - 3s 248ms/step - loss: 0.4023 - accuracy: 0.8721 - val_loss: 0.8242 - val_accuracy: 0.6644\n",
            "Epoch 8/25\n",
            "14/14 [==============================] - 3s 245ms/step - loss: 0.3520 - accuracy: 0.9064 - val_loss: 0.6545 - val_accuracy: 0.7534\n",
            "Epoch 9/25\n",
            "14/14 [==============================] - 3s 248ms/step - loss: 0.2949 - accuracy: 0.9064 - val_loss: 0.6800 - val_accuracy: 0.7671\n",
            "Epoch 10/25\n",
            "14/14 [==============================] - 3s 249ms/step - loss: 0.2445 - accuracy: 0.9315 - val_loss: 0.6103 - val_accuracy: 0.7740\n",
            "Epoch 11/25\n",
            "14/14 [==============================] - 3s 250ms/step - loss: 0.1998 - accuracy: 0.9521 - val_loss: 0.7885 - val_accuracy: 0.6781\n",
            "Epoch 12/25\n",
            "14/14 [==============================] - 3s 248ms/step - loss: 0.1796 - accuracy: 0.9452 - val_loss: 0.5388 - val_accuracy: 0.8151\n",
            "Epoch 13/25\n",
            "14/14 [==============================] - 3s 249ms/step - loss: 0.1289 - accuracy: 0.9749 - val_loss: 0.5419 - val_accuracy: 0.8014\n",
            "Epoch 14/25\n",
            "14/14 [==============================] - 3s 248ms/step - loss: 0.1099 - accuracy: 0.9840 - val_loss: 0.5054 - val_accuracy: 0.8151\n",
            "Epoch 15/25\n",
            "14/14 [==============================] - 3s 250ms/step - loss: 0.0915 - accuracy: 0.9909 - val_loss: 0.4974 - val_accuracy: 0.8219\n",
            "Epoch 16/25\n",
            "14/14 [==============================] - 3s 248ms/step - loss: 0.0674 - accuracy: 1.0000 - val_loss: 0.5235 - val_accuracy: 0.8151\n",
            "Epoch 17/25\n",
            "14/14 [==============================] - 3s 249ms/step - loss: 0.0587 - accuracy: 0.9954 - val_loss: 0.4903 - val_accuracy: 0.8356\n",
            "Epoch 18/25\n",
            "14/14 [==============================] - 4s 250ms/step - loss: 0.0713 - accuracy: 0.9817 - val_loss: 0.5229 - val_accuracy: 0.7945\n",
            "Epoch 19/25\n",
            "14/14 [==============================] - 3s 247ms/step - loss: 0.0505 - accuracy: 0.9954 - val_loss: 0.5241 - val_accuracy: 0.8151\n",
            "Epoch 20/25\n",
            "14/14 [==============================] - 3s 247ms/step - loss: 0.0678 - accuracy: 0.9863 - val_loss: 0.7612 - val_accuracy: 0.7603\n",
            "Epoch 21/25\n",
            "14/14 [==============================] - 4s 250ms/step - loss: 0.0646 - accuracy: 0.9863 - val_loss: 0.6108 - val_accuracy: 0.7945\n",
            "Epoch 22/25\n",
            "14/14 [==============================] - 3s 248ms/step - loss: 0.0432 - accuracy: 0.9954 - val_loss: 0.5245 - val_accuracy: 0.8288\n",
            "Epoch 23/25\n",
            "14/14 [==============================] - 3s 248ms/step - loss: 0.0254 - accuracy: 1.0000 - val_loss: 0.5558 - val_accuracy: 0.8356\n",
            "Epoch 24/25\n",
            "14/14 [==============================] - 4s 251ms/step - loss: 0.0210 - accuracy: 1.0000 - val_loss: 0.5667 - val_accuracy: 0.8288\n",
            "Epoch 25/25\n",
            "14/14 [==============================] - 3s 248ms/step - loss: 0.0185 - accuracy: 1.0000 - val_loss: 0.5858 - val_accuracy: 0.8493\n"
          ],
          "name": "stdout"
        }
      ]
    },
    {
      "cell_type": "code",
      "metadata": {
        "id": "98ZAnbe8EoeD",
        "colab": {
          "base_uri": "https://localhost:8080/",
          "height": 590
        },
        "outputId": "005d72c0-9778-4317-870d-7722e3be95b0"
      },
      "source": [
        "import matplotlib.pyplot as plt\n",
        "\n",
        "print(H.history.keys()) \n",
        "# summarize history for accuracy\n",
        "plt.plot(H.history['accuracy']) \n",
        "plt.plot(H.history['val_accuracy'])\n",
        "plt.title('model accuracy') \n",
        "plt.ylabel('accuracy')\n",
        "plt.xlabel('epoch') \n",
        "plt.legend(['train', 'test'], loc='upper left')\n",
        "plt.show()\n",
        "# summarize history for loss \n",
        "plt.plot(H.history['loss']) \n",
        "plt.plot(H.history['val_loss'])\n",
        "plt.title('model loss')\n",
        "plt.ylabel('loss')\n",
        "plt.xlabel('epoch')\n",
        "plt.legend(['train','test'], loc='upper left')\n",
        "plt.show()"
      ],
      "execution_count": 52,
      "outputs": [
        {
          "output_type": "stream",
          "text": [
            "dict_keys(['loss', 'accuracy', 'val_loss', 'val_accuracy'])\n"
          ],
          "name": "stdout"
        },
        {
          "output_type": "display_data",
          "data": {
            "image/png": "[encoded data removed]",
            "text/plain": [
              "<Figure size 432x288 with 1 Axes>"
            ]
          },
          "metadata": {
            "tags": [],
            "needs_background": "light"
          }
        },
        {
          "output_type": "display_data",
          "data": {
            "image/png": "[encoded data removed]",
            "text/plain": [
              "<Figure size 432x288 with 1 Axes>"
            ]
          },
          "metadata": {
            "tags": [],
            "needs_background": "light"
          }
        }
      ]
    },
    {
      "cell_type": "code",
      "metadata": {
        "colab": {
          "base_uri": "https://localhost:8080/"
        },
        "id": "jw3MiRoxEszY",
        "outputId": "68715898-1930-4ff7-e616-d2e37fb48245"
      },
      "source": [
        "# evaluate the network\n",
        "print(\"[INFO] evaluating network...\") \n",
        "predictions = model1.predict(testX, batch_size=32) \n",
        "print(classification_report(testY.argmax (axis=1),\n",
        "  predictions.argmax(axis=1), target_names=lb.classes_))"
      ],
      "execution_count": 53,
      "outputs": [
        {
          "output_type": "stream",
          "text": [
            "[INFO] evaluating network...\n",
            "              precision    recall  f1-score   support\n",
            "\n",
            "      GMB_01       0.70      0.86      0.78        22\n",
            "      GMB_02       0.83      0.83      0.83        30\n",
            "      GMB_03       0.85      0.92      0.88        24\n",
            "      GMB_04       0.92      0.67      0.77        33\n",
            "      GMB_05       0.92      0.97      0.95        37\n",
            "\n",
            "    accuracy                           0.85       146\n",
            "   macro avg       0.84      0.85      0.84       146\n",
            "weighted avg       0.86      0.85      0.85       146\n",
            "\n"
          ],
          "name": "stdout"
        }
      ]
    },
    {
      "cell_type": "code",
      "metadata": {
        "id": "H0O-lmkjEv0k",
        "colab": {
          "base_uri": "https://localhost:8080/"
        },
        "outputId": "8738fe4a-ac16-4f53-fa9b-05c48f06e292"
      },
      "source": [
        "model1.save('model_scene')"
      ],
      "execution_count": 54,
      "outputs": [
        {
          "output_type": "stream",
          "text": [
            "INFO:tensorflow:Assets written to: model_scene/assets\n"
          ],
          "name": "stdout"
        }
      ]
    },
    {
      "cell_type": "code",
      "metadata": {
        "id": "M4s4ZBKkExv1"
      },
      "source": [
        "import cv2\n",
        "import matplotlib.pyplot as plt\n",
        "image1='Rio Ananta.jpg'"
      ],
      "execution_count": 55,
      "outputs": []
    }
  ]
}