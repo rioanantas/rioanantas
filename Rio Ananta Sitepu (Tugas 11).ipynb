{
  "nbformat": 4,
  "nbformat_minor": 0,
  "metadata": {
    "colab": {
      "name": "Untitled0.ipynb",
      "provenance": [],
      "include_colab_link": true
    },
    "kernelspec": {
      "name": "python3",
      "display_name": "Python 3"
    }
  },
  "cells": [
    {
      "cell_type": "markdown",
      "metadata": {
        "id": "view-in-github",
        "colab_type": "text"
      },
      "source": [
        "<a href=\"https://colab.research.google.com/github/rioanantas/rioanantas/blob/main/Rio%20Ananta%20Sitepu%20(Tugas%2011).ipynb\" target=\"_parent\"><img src=\"https://colab.research.google.com/assets/colab-badge.svg\" alt=\"Open In Colab\"/></a>"
      ]
    },
    {
      "cell_type": "code",
      "metadata": {
        "id": "XsJ-bKeYBAUH"
      },
      "source": [
        ""
      ],
      "execution_count": 861,
      "outputs": []
    },
    {
      "cell_type": "code",
      "metadata": {
        "colab": {
          "base_uri": "https://localhost:8080/"
        },
        "id": "8LQfEX0gBoym",
        "outputId": "d9e9cd84-2015-4389-b048-c033a63bba68"
      },
      "source": [
        "from google.colab import drive\n",
        "drive.mount('/content/drive')"
      ],
      "execution_count": 862,
      "outputs": [
        {
          "output_type": "stream",
          "text": [
            "Drive already mounted at /content/drive; to attempt to forcibly remount, call drive.mount(\"/content/drive\", force_remount=True).\n"
          ],
          "name": "stdout"
        }
      ]
    },
    {
      "cell_type": "code",
      "metadata": {
        "colab": {
          "base_uri": "https://localhost:8080/"
        },
        "id": "CZGNiDGtCFyB",
        "outputId": "ad5002e8-521f-4893-f5e5-e8629f123f5b"
      },
      "source": [
        "cd/content/drive/MyDrive"
      ],
      "execution_count": 863,
      "outputs": [
        {
          "output_type": "stream",
          "text": [
            "/content/drive/MyDrive\n"
          ],
          "name": "stdout"
        }
      ]
    },
    {
      "cell_type": "code",
      "metadata": {
        "id": "osML8lVVDJx4",
        "outputId": "24f0e7e2-cb8a-43d4-aad3-61769fae880b",
        "colab": {
          "base_uri": "https://localhost:8080/"
        }
      },
      "source": [
        "ls"
      ],
      "execution_count": 864,
      "outputs": [
        {
          "output_type": "stream",
          "text": [
            " 19-03-2020-08.07.52.pdf\n",
            " 20200428_082631.jpg\n",
            " \u001b[0m\u001b[01;36m3scene\u001b[0m@\n",
            "'76_1101194055_Rio Ananta Sitepu.docx'\n",
            "'Annotation 2020-09-11 182120.png'\n",
            " \u001b[01;34mClassroom\u001b[0m/\n",
            " \u001b[01;36mdataset\u001b[0m@\n",
            "'Dok baru 04-02-2020 21.16.07.pdf'\n",
            " EcertificateFreedomLearn_1101194055_KampusMerdeka.pdf\n",
            "'Getting started.pdf'\n",
            "'KSM RIO (1).pdf'\n",
            "'KSM RIO.pdf'\n",
            " \u001b[01;34mmodel_scene\u001b[0m/\n",
            " \u001b[01;34mpython\u001b[0m/\n",
            " Reed-blog-post-image-1024x1024.jpg\n",
            "'Rio Ananta.jpg'\n",
            "'Rio Ananta S_1101194055_107.pdf'\n",
            "'Rio Ananta Sitepu_1101194055_107 (2).pdf'\n",
            "'Rio Ananta Sitepu_1101194055_107.pdf'\n",
            "'Screenshot_20201021-212741_Mobile Legends Bang Bang.jpg'\n",
            "'Screenshot 2020-11-14 065241.png'\n",
            "'SENIN(2)_TT01(G)_RIO ANANTA S_1101194055_JW.pdf'\n",
            "'TT4301_Rio Ananta Sitepu_1.pdf'\n",
            "'tugas kalkulus integral trigonometri.pdf'\n",
            "'Tugas Kuis Rio Ananta Sitepu 1101194055 (1).pdf'\n",
            "'Tugas Kuis Rio Ananta Sitepu 1101194055.pdf'\n",
            "\u001b[01;34m'Untitled folder'\u001b[0m/\n",
            "'WhatsApp Image 2020-10-08 at 21.44.59.jpeg'\n",
            "'WhatsApp Image 2020-10-08 at 21.45.13.jpeg'\n",
            "'WhatsApp Image 2020-10-08 at 21.45.56.jpeg'\n",
            "'WhatsApp Image 2020-10-08 at 21.46.03.jpeg'\n",
            "'WhatsApp Image 2020-10-08 at 21.47.54.jpeg'\n",
            "'WhatsApp Image 2020-10-08 at 21.52.02.jpeg'\n",
            "'WhatsApp Image 2020-10-08 at 21.52.09 (1).jpeg'\n",
            "'WhatsApp Image 2020-10-08 at 21.52.09 (2).jpeg'\n",
            "'WhatsApp Image 2020-10-08 at 21.52.09.jpeg'\n",
            "'WhatsApp Image 2020-10-08 at 21.53.45.jpeg'\n",
            "'WhatsApp Image 2020-10-08 at 21.54.36.jpeg'\n",
            "'WhatsApp Image 2020-10-08 at 21.56.15.jpeg'\n",
            "'WhatsApp Image 2020-10-08 at 21.57.16.jpeg'\n",
            "'WhatsApp Image 2020-10-08 at 21.59.12.jpeg'\n",
            "'WhatsApp Image 2020-10-17 at 06.42.14 (1).jpeg'\n",
            "'WhatsApp Image 2020-10-17 at 06.42.14.jpeg'\n",
            "'WhatsApp Image 2020-10-17 at 06.47.58.jpeg'\n",
            "'WhatsApp Image 2020-10-17 at 06.48.07.jpeg'\n",
            "'WhatsApp Image 2020-11-14 at 06.48.35.jpeg'\n",
            "'WhatsApp Image 2020-11-14 at 06.49.04.jpeg'\n",
            "'WhatsApp Image 2020-11-28 at 06.29.14.jpeg'\n",
            "'WhatsApp Image 2020-11-28 at 06.41.05 (1).jpeg'\n",
            "'WhatsApp Image 2020-11-28 at 06.41.05.jpeg'\n"
          ],
          "name": "stdout"
        }
      ]
    },
    {
      "cell_type": "code",
      "metadata": {
        "id": "rMDrYaWGDf_S"
      },
      "source": [
        "# import the necessary packages\n",
        "\n",
        "from keras.models import Sequential\n",
        "from keras.layers.core import Activation\n",
        "from keras.layers.core import Flatten\n",
        "from keras.layers.core import Dense \n",
        "from keras.optimizers import Adam\n",
        "from sklearn.preprocessing import LabelBinarizer\n",
        "from sklearn.model_selection import train_test_split\n",
        "from sklearn.metrics import classification_report\n",
        "from PIL import Image\n",
        "from imutils import paths \n",
        "import numpy as np\n",
        "import os"
      ],
      "execution_count": 865,
      "outputs": []
    },
    {
      "cell_type": "code",
      "metadata": {
        "colab": {
          "base_uri": "https://localhost:8080/"
        },
        "id": "Q9ITdZ_EDr__",
        "outputId": "55371500-714f-4450-8e1b-d9386a7abc2d"
      },
      "source": [
        "# grab all image paths in the input dataset directory, then initialize\n",
        "\n",
        "# our list of images and corresponding class labels \n",
        "print(\"[INFO] loading images...\")\n",
        "imagePaths = paths.list_images(\"dataset\")\n",
        "data = []\n",
        "labels = []"
      ],
      "execution_count": 866,
      "outputs": [
        {
          "output_type": "stream",
          "text": [
            "[INFO] loading images...\n"
          ],
          "name": "stdout"
        }
      ]
    },
    {
      "cell_type": "code",
      "metadata": {
        "id": "nxnLYxnoD3Gv"
      },
      "source": [
        "# loop over our input images\n",
        "\n",
        "for imagePath in imagePaths:\n",
        "  # load the input image from disk, resize it to 64x64 pixels, scale \n",
        "  # the pixel intensities to the range [0, 1], and then update our\n",
        "  # images list\n",
        "  image = Image.open(imagePath)\n",
        "  #preprocessing\n",
        "  image = np.array(image.resize((87, 87))) / 255.0\n",
        "  data.append(image)\n",
        "\n",
        "  # extract the class label from the file path and update the\n",
        "  # labels list\n",
        "  label = imagePath.split(os.path. sep)[-2] \n",
        "  labels.append(label)"
      ],
      "execution_count": 867,
      "outputs": []
    },
    {
      "cell_type": "code",
      "metadata": {
        "colab": {
          "base_uri": "https://localhost:8080/"
        },
        "id": "RQ9loa4ED32R",
        "outputId": "fcfe7b53-960c-4219-a5c8-245375a935a4"
      },
      "source": [
        "print(labels)"
      ],
      "execution_count": 868,
      "outputs": [
        {
          "output_type": "stream",
          "text": [
            "['GMB_09', 'GMB_09', 'GMB_09', 'GMB_09', 'GMB_09', 'GMB_09', 'GMB_09', 'GMB_09', 'GMB_09', 'GMB_09', 'GMB_09', 'GMB_09', 'GMB_09', 'GMB_09', 'GMB_09', 'GMB_09', 'GMB_09', 'GMB_09', 'GMB_09', 'GMB_09', 'GMB_09', 'GMB_09', 'GMB_09', 'GMB_09', 'GMB_09', 'GMB_09', 'GMB_09', 'GMB_09', 'GMB_09', 'GMB_09', 'GMB_09', 'GMB_09', 'GMB_09', 'GMB_09', 'GMB_09', 'GMB_09', 'GMB_09', 'GMB_09', 'GMB_09', 'GMB_09', 'GMB_09', 'GMB_09', 'GMB_09', 'GMB_09', 'GMB_09', 'GMB_09', 'GMB_09', 'GMB_09', 'GMB_09', 'GMB_09', 'GMB_09', 'GMB_09', 'GMB_09', 'GMB_09', 'GMB_09', 'GMB_09', 'GMB_09', 'GMB_09', 'GMB_09', 'GMB_09', 'GMB_09', 'GMB_09', 'GMB_09', 'GMB_09', 'GMB_09', 'GMB_09', 'GMB_09', 'GMB_09', 'GMB_09', 'GMB_09', 'GMB_09', 'GMB_09', 'GMB_09', 'GMB_09', 'GMB_09', 'GMB_09', 'GMB_09', 'GMB_09', 'GMB_09', 'GMB_09', 'GMB_09', 'GMB_09', 'GMB_09', 'GMB_09', 'GMB_09', 'GMB_09', 'GMB_09', 'GMB_09', 'GMB_09', 'GMB_09', 'GMB_09', 'GMB_09', 'GMB_09', 'GMB_09', 'GMB_09', 'GMB_09', 'GMB_09', 'GMB_09', 'GMB_09', 'GMB_09', 'GMB_09', 'GMB_09', 'GMB_09', 'GMB_09', 'GMB_09', 'GMB_09', 'GMB_09', 'GMB_09', 'GMB_09', 'GMB_09', 'GMB_09', 'GMB_09', 'GMB_09', 'GMB_09', 'GMB_09', 'GMB_08', 'GMB_08', 'GMB_08', 'GMB_08', 'GMB_08', 'GMB_08', 'GMB_08', 'GMB_08', 'GMB_08', 'GMB_08', 'GMB_08', 'GMB_08', 'GMB_08', 'GMB_08', 'GMB_08', 'GMB_08', 'GMB_08', 'GMB_08', 'GMB_08', 'GMB_08', 'GMB_08', 'GMB_08', 'GMB_08', 'GMB_08', 'GMB_08', 'GMB_08', 'GMB_08', 'GMB_08', 'GMB_08', 'GMB_08', 'GMB_08', 'GMB_08', 'GMB_08', 'GMB_08', 'GMB_08', 'GMB_08', 'GMB_08', 'GMB_08', 'GMB_08', 'GMB_08', 'GMB_08', 'GMB_08', 'GMB_08', 'GMB_08', 'GMB_08', 'GMB_08', 'GMB_08', 'GMB_08', 'GMB_08', 'GMB_08', 'GMB_08', 'GMB_08', 'GMB_08', 'GMB_08', 'GMB_08', 'GMB_08', 'GMB_08', 'GMB_08', 'GMB_08', 'GMB_08', 'GMB_08', 'GMB_08', 'GMB_08', 'GMB_08', 'GMB_08', 'GMB_08', 'GMB_08', 'GMB_08', 'GMB_08', 'GMB_08', 'GMB_08', 'GMB_08', 'GMB_08', 'GMB_08', 'GMB_08', 'GMB_08', 'GMB_08', 'GMB_08', 'GMB_08', 'GMB_08', 'GMB_08', 'GMB_08', 'GMB_08', 'GMB_08', 'GMB_08', 'GMB_08', 'GMB_08', 'GMB_08', 'GMB_08', 'GMB_08', 'GMB_08', 'GMB_08', 'GMB_08', 'GMB_08', 'GMB_08', 'GMB_08', 'GMB_08', 'GMB_08', 'GMB_08', 'GMB_08', 'GMB_08', 'GMB_08', 'GMB_08', 'GMB_08', 'GMB_08', 'GMB_08', 'GMB_08', 'GMB_08', 'GMB_08', 'GMB_08', 'GMB_08', 'GMB_08', 'GMB_08', 'GMB_08', 'GMB_08', 'GMB_08', 'GMB_08', 'GMB_10', 'GMB_10', 'GMB_10', 'GMB_10', 'GMB_10', 'GMB_10', 'GMB_10', 'GMB_10', 'GMB_10', 'GMB_10', 'GMB_10', 'GMB_10', 'GMB_10', 'GMB_10', 'GMB_10', 'GMB_10', 'GMB_10', 'GMB_10', 'GMB_10', 'GMB_10', 'GMB_10', 'GMB_10', 'GMB_10', 'GMB_10', 'GMB_10', 'GMB_10', 'GMB_10', 'GMB_10', 'GMB_10', 'GMB_10', 'GMB_10', 'GMB_10', 'GMB_10', 'GMB_10', 'GMB_10', 'GMB_10', 'GMB_10', 'GMB_10', 'GMB_10', 'GMB_10', 'GMB_10', 'GMB_10', 'GMB_10', 'GMB_10', 'GMB_10', 'GMB_10', 'GMB_10', 'GMB_10', 'GMB_10', 'GMB_10', 'GMB_10', 'GMB_10', 'GMB_10', 'GMB_10', 'GMB_10', 'GMB_10', 'GMB_10', 'GMB_10', 'GMB_10', 'GMB_10', 'GMB_10', 'GMB_10', 'GMB_10', 'GMB_10', 'GMB_10', 'GMB_10', 'GMB_10', 'GMB_10', 'GMB_10', 'GMB_10', 'GMB_10', 'GMB_10', 'GMB_10', 'GMB_10', 'GMB_10', 'GMB_10', 'GMB_10', 'GMB_10', 'GMB_10', 'GMB_10', 'GMB_10', 'GMB_10', 'GMB_10', 'GMB_10', 'GMB_10', 'GMB_10', 'GMB_10', 'GMB_10', 'GMB_10', 'GMB_10', 'GMB_10', 'GMB_10', 'GMB_10', 'GMB_10', 'GMB_10', 'GMB_10', 'GMB_10', 'GMB_10', 'GMB_10', 'GMB_10', 'GMB_10', 'GMB_10', 'GMB_10', 'GMB_10', 'GMB_10', 'GMB_10', 'GMB_10', 'GMB_10', 'GMB_10', 'GMB_10', 'GMB_10', 'GMB_10', 'GMB_10', 'GMB_10', 'GMB_11', 'GMB_11', 'GMB_11', 'GMB_11', 'GMB_11', 'GMB_11', 'GMB_11', 'GMB_11', 'GMB_11', 'GMB_11', 'GMB_11', 'GMB_11', 'GMB_11', 'GMB_11', 'GMB_11', 'GMB_11', 'GMB_11', 'GMB_11', 'GMB_11', 'GMB_11', 'GMB_11', 'GMB_11', 'GMB_11', 'GMB_11', 'GMB_11', 'GMB_11', 'GMB_11', 'GMB_11', 'GMB_11', 'GMB_11', 'GMB_11', 'GMB_11', 'GMB_11', 'GMB_11', 'GMB_11', 'GMB_11', 'GMB_11', 'GMB_11', 'GMB_11', 'GMB_11', 'GMB_11', 'GMB_11', 'GMB_11', 'GMB_11', 'GMB_11', 'GMB_11', 'GMB_11', 'GMB_11', 'GMB_11', 'GMB_11', 'GMB_11', 'GMB_11', 'GMB_11', 'GMB_11', 'GMB_11', 'GMB_11', 'GMB_11', 'GMB_11', 'GMB_11', 'GMB_11', 'GMB_11', 'GMB_11', 'GMB_11', 'GMB_11', 'GMB_11', 'GMB_11', 'GMB_11', 'GMB_11', 'GMB_11', 'GMB_11', 'GMB_11', 'GMB_11', 'GMB_11', 'GMB_11', 'GMB_11', 'GMB_11', 'GMB_11', 'GMB_11', 'GMB_11', 'GMB_11', 'GMB_11', 'GMB_11', 'GMB_11', 'GMB_11', 'GMB_11', 'GMB_11', 'GMB_11', 'GMB_11', 'GMB_11', 'GMB_11', 'GMB_11', 'GMB_11', 'GMB_11', 'GMB_11', 'GMB_11', 'GMB_11', 'GMB_11', 'GMB_11', 'GMB_11', 'GMB_11', 'GMB_11', 'GMB_11', 'GMB_11', 'GMB_11', 'GMB_11', 'GMB_11', 'GMB_11', 'GMB_11', 'GMB_11', 'GMB_11', 'GMB_11', 'GMB_11', 'GMB_11', 'GMB_11', 'GMB_11', 'GMB_11', 'GMB_11', 'GMB_11', 'GMB_11', 'GMB_11', 'GMB_11', 'GMB_11', 'GMB_11', 'GMB_11', 'GMB_11', 'GMB_11', 'GMB_11', 'GMB_11', 'GMB_11', 'nonGMB', 'nonGMB', 'nonGMB', 'nonGMB', 'nonGMB', 'nonGMB', 'nonGMB', 'nonGMB', 'nonGMB', 'nonGMB', 'nonGMB', 'nonGMB', 'nonGMB', 'nonGMB', 'nonGMB', 'nonGMB', 'nonGMB', 'nonGMB', 'nonGMB', 'nonGMB', 'nonGMB', 'nonGMB', 'nonGMB', 'nonGMB', 'nonGMB', 'nonGMB', 'nonGMB', 'nonGMB', 'nonGMB', 'nonGMB', 'nonGMB', 'nonGMB', 'nonGMB', 'nonGMB', 'nonGMB', 'nonGMB', 'nonGMB', 'nonGMB', 'nonGMB', 'nonGMB', 'nonGMB', 'nonGMB', 'nonGMB', 'nonGMB', 'nonGMB', 'nonGMB', 'nonGMB', 'nonGMB', 'nonGMB', 'nonGMB', 'nonGMB', 'nonGMB', 'nonGMB', 'nonGMB', 'nonGMB', 'nonGMB', 'nonGMB', 'nonGMB', 'nonGMB', 'nonGMB', 'nonGMB', 'nonGMB', 'nonGMB', 'nonGMB', 'nonGMB', 'nonGMB', 'nonGMB', 'nonGMB', 'nonGMB', 'nonGMB', 'nonGMB', 'nonGMB', 'nonGMB', 'nonGMB', 'nonGMB', 'nonGMB', 'nonGMB', 'nonGMB', 'nonGMB', 'nonGMB', 'nonGMB', 'nonGMB', 'nonGMB', 'nonGMB', 'nonGMB', 'nonGMB', 'nonGMB', 'nonGMB', 'nonGMB', 'nonGMB', 'nonGMB', 'nonGMB', 'nonGMB', 'nonGMB', 'nonGMB', 'nonGMB', 'nonGMB', 'nonGMB', 'nonGMB', 'nonGMB', 'nonGMB', 'nonGMB', 'nonGMB', 'nonGMB', 'nonGMB', 'nonGMB']\n"
          ],
          "name": "stdout"
        }
      ]
    },
    {
      "cell_type": "code",
      "metadata": {
        "id": "BvFJmR8vD5-T"
      },
      "source": [
        "# encode the labels, converting them from strings to integers \n",
        "lb = LabelBinarizer()\n",
        "labels = lb.fit_transform(labels)"
      ],
      "execution_count": 869,
      "outputs": []
    },
    {
      "cell_type": "code",
      "metadata": {
        "colab": {
          "base_uri": "https://localhost:8080/"
        },
        "id": "HQ_L4OcwEQ8T",
        "outputId": "fd94fd6f-a228-4b70-8364-5aa053de66d0"
      },
      "source": [
        "print(labels)"
      ],
      "execution_count": 870,
      "outputs": [
        {
          "output_type": "stream",
          "text": [
            "[[0 1 0 0 0]\n",
            " [0 1 0 0 0]\n",
            " [0 1 0 0 0]\n",
            " ...\n",
            " [0 0 0 0 1]\n",
            " [0 0 0 0 1]\n",
            " [0 0 0 0 1]]\n"
          ],
          "name": "stdout"
        }
      ]
    },
    {
      "cell_type": "code",
      "metadata": {
        "colab": {
          "base_uri": "https://localhost:8080/"
        },
        "id": "cOrTavGVEfqv",
        "outputId": "544c6aa1-bdf0-44f6-df1d-46f4d18a7430"
      },
      "source": [
        "# perform a troining and testing split, using 75% of the data for \n",
        "# training and 25% for evaluation\n",
        "\n",
        "(trainX, testX, trainY, testY) = train_test_split(np.array(data), np.array(labels), test_size=0.25, shuffle=True)\n",
        "print(trainX.shape)\n",
        "print(testX.shape)"
      ],
      "execution_count": 871,
      "outputs": [
        {
          "output_type": "stream",
          "text": [
            "(435, 87, 87, 3)\n",
            "(146, 87, 87, 3)\n"
          ],
          "name": "stdout"
        }
      ]
    },
    {
      "cell_type": "code",
      "metadata": {
        "id": "lrK3t241G2u2",
        "outputId": "bcfe758e-9638-4f94-e626-cfb1f1c8d362",
        "colab": {
          "base_uri": "https://localhost:8080/"
        }
      },
      "source": [
        "from keras.layers import Convolution2D, MaxPooling2D\n",
        "from keras.models import Sequential\n",
        "from keras.layers.core import Flatten, Dense\n",
        "\n",
        "model1 = Sequential()\n",
        "model1.add(Convolution2D(8, (3,3), activation='relu', input_shape=(87,87,3)))\n",
        "model1.add(MaxPooling2D(2,2))\n",
        "model1.add(Convolution2D(16, (3,3), activation='relu'))\n",
        "model1.add(MaxPooling2D(2,2))\n",
        "#fully connected layer\n",
        "model1.add(Flatten())\n",
        "model1.add(Dense(100, activation='relu'))\n",
        "model1.add(Dense(5, activation='softmax'))\n",
        "\n",
        "model1.summary()"
      ],
      "execution_count": 872,
      "outputs": [
        {
          "output_type": "stream",
          "text": [
            "Model: \"sequential_92\"\n",
            "_________________________________________________________________\n",
            "Layer (type)                 Output Shape              Param #   \n",
            "=================================================================\n",
            "conv2d_90 (Conv2D)           (None, 85, 85, 8)         224       \n",
            "_________________________________________________________________\n",
            "max_pooling2d_79 (MaxPooling (None, 42, 42, 8)         0         \n",
            "_________________________________________________________________\n",
            "conv2d_91 (Conv2D)           (None, 40, 40, 16)        1168      \n",
            "_________________________________________________________________\n",
            "max_pooling2d_80 (MaxPooling (None, 20, 20, 16)        0         \n",
            "_________________________________________________________________\n",
            "flatten_81 (Flatten)         (None, 6400)              0         \n",
            "_________________________________________________________________\n",
            "dense_78 (Dense)             (None, 100)               640100    \n",
            "_________________________________________________________________\n",
            "dense_79 (Dense)             (None, 5)                 505       \n",
            "=================================================================\n",
            "Total params: 641,997\n",
            "Trainable params: 641,997\n",
            "Non-trainable params: 0\n",
            "_________________________________________________________________\n"
          ],
          "name": "stdout"
        }
      ]
    },
    {
      "cell_type": "code",
      "metadata": {
        "id": "d5rDtvQmEiwz"
      },
      "source": [
        "from keras.models import Sequential\n",
        "from keras.layers.core import Flatten\n",
        "from keras.layers.core import Dense\n",
        "\n",
        "model = Sequential (\n",
        "    [\n",
        "        Flatten(input_shape=(87*87*3,)),\n",
        "        Dense(100, activation=\"relu\", name=\"layer1\"),\n",
        "        Dense(16, activation=\"relu\", name=\"layer2\"),\n",
        "        Dense(16, activation=\"relu\", name=\"layer3\"),\n",
        "        Dense(5, activation = \"softmax\", name=\"layer4\"),\n",
        "    ]\n",
        ")"
      ],
      "execution_count": 879,
      "outputs": []
    },
    {
      "cell_type": "code",
      "metadata": {
        "colab": {
          "base_uri": "https://localhost:8080/"
        },
        "id": "8oQwh9aFEl38",
        "outputId": "ffea7b42-7957-4284-9855-985b166e9526"
      },
      "source": [
        "model.summary()"
      ],
      "execution_count": 880,
      "outputs": [
        {
          "output_type": "stream",
          "text": [
            "Model: \"sequential_94\"\n",
            "_________________________________________________________________\n",
            "Layer (type)                 Output Shape              Param #   \n",
            "=================================================================\n",
            "flatten_83 (Flatten)         (None, 22707)             0         \n",
            "_________________________________________________________________\n",
            "layer1 (Dense)               (None, 100)               2270800   \n",
            "_________________________________________________________________\n",
            "layer2 (Dense)               (None, 16)                1616      \n",
            "_________________________________________________________________\n",
            "layer3 (Dense)               (None, 16)                272       \n",
            "_________________________________________________________________\n",
            "layer4 (Dense)               (None, 5)                 85        \n",
            "=================================================================\n",
            "Total params: 2,272,773\n",
            "Trainable params: 2,272,773\n",
            "Non-trainable params: 0\n",
            "_________________________________________________________________\n"
          ],
          "name": "stdout"
        }
      ]
    },
    {
      "cell_type": "code",
      "metadata": {
        "id": "9hmP4JjpGZO7",
        "colab": {
          "base_uri": "https://localhost:8080/"
        },
        "outputId": "3ae4d56b-f67a-4d4f-8471-875c11da68ac"
      },
      "source": [
        "# train the model using the Adam optimizer\n",
        "print(\"[INFO] training network...\")\n",
        "opt = Adam(lr=1e-3, decay=1e-3 / 50)\n",
        "model1.compile(loss=\"categorical_crossentropy\", optimizer=opt, metrics=[\"accuracy\"])"
      ],
      "execution_count": 881,
      "outputs": [
        {
          "output_type": "stream",
          "text": [
            "[INFO] training network...\n"
          ],
          "name": "stdout"
        }
      ]
    },
    {
      "cell_type": "code",
      "metadata": {
        "id": "goxuRjhYMZ1Q",
        "outputId": "52668b57-a2b2-4104-ada5-7345bec3165c",
        "colab": {
          "base_uri": "https://localhost:8080/"
        }
      },
      "source": [
        "H = model1.fit(trainX, trainY, validation_data=(testX, testY), epochs=25, batch_size=32)"
      ],
      "execution_count": 882,
      "outputs": [
        {
          "output_type": "stream",
          "text": [
            "Epoch 1/25\n",
            "14/14 [==============================] - 2s 118ms/step - loss: 0.2032 - accuracy: 0.9356 - val_loss: 0.5524 - val_accuracy: 0.7740\n",
            "Epoch 2/25\n",
            "14/14 [==============================] - 2s 110ms/step - loss: 0.1045 - accuracy: 0.9770 - val_loss: 0.4281 - val_accuracy: 0.8356\n",
            "Epoch 3/25\n",
            "14/14 [==============================] - 2s 111ms/step - loss: 0.0716 - accuracy: 0.9954 - val_loss: 0.4452 - val_accuracy: 0.8356\n",
            "Epoch 4/25\n",
            "14/14 [==============================] - 2s 111ms/step - loss: 0.0632 - accuracy: 0.9862 - val_loss: 0.3996 - val_accuracy: 0.8151\n",
            "Epoch 5/25\n",
            "14/14 [==============================] - 2s 113ms/step - loss: 0.0479 - accuracy: 0.9977 - val_loss: 0.4205 - val_accuracy: 0.8151\n",
            "Epoch 6/25\n",
            "14/14 [==============================] - 2s 113ms/step - loss: 0.0493 - accuracy: 0.9954 - val_loss: 0.4414 - val_accuracy: 0.8288\n",
            "Epoch 7/25\n",
            "14/14 [==============================] - 2s 111ms/step - loss: 0.0362 - accuracy: 1.0000 - val_loss: 0.3765 - val_accuracy: 0.8356\n",
            "Epoch 8/25\n",
            "14/14 [==============================] - 2s 112ms/step - loss: 0.0306 - accuracy: 1.0000 - val_loss: 0.3737 - val_accuracy: 0.8288\n",
            "Epoch 9/25\n",
            "14/14 [==============================] - 2s 110ms/step - loss: 0.0273 - accuracy: 1.0000 - val_loss: 0.3830 - val_accuracy: 0.8356\n",
            "Epoch 10/25\n",
            "14/14 [==============================] - 1s 106ms/step - loss: 0.0238 - accuracy: 1.0000 - val_loss: 0.3948 - val_accuracy: 0.8151\n",
            "Epoch 11/25\n",
            "14/14 [==============================] - 1s 100ms/step - loss: 0.0208 - accuracy: 1.0000 - val_loss: 0.3736 - val_accuracy: 0.8151\n",
            "Epoch 12/25\n",
            "14/14 [==============================] - 1s 105ms/step - loss: 0.0164 - accuracy: 1.0000 - val_loss: 0.4071 - val_accuracy: 0.8082\n",
            "Epoch 13/25\n",
            "14/14 [==============================] - 2s 108ms/step - loss: 0.0139 - accuracy: 1.0000 - val_loss: 0.3895 - val_accuracy: 0.8356\n",
            "Epoch 14/25\n",
            "14/14 [==============================] - 2s 108ms/step - loss: 0.0135 - accuracy: 1.0000 - val_loss: 0.3899 - val_accuracy: 0.8288\n",
            "Epoch 15/25\n",
            "14/14 [==============================] - 2s 109ms/step - loss: 0.0171 - accuracy: 1.0000 - val_loss: 0.3860 - val_accuracy: 0.8288\n",
            "Epoch 16/25\n",
            "14/14 [==============================] - 2s 111ms/step - loss: 0.0225 - accuracy: 0.9977 - val_loss: 0.3677 - val_accuracy: 0.8356\n",
            "Epoch 17/25\n",
            "14/14 [==============================] - 2s 112ms/step - loss: 0.0195 - accuracy: 0.9977 - val_loss: 0.4671 - val_accuracy: 0.8082\n",
            "Epoch 18/25\n",
            "14/14 [==============================] - 2s 109ms/step - loss: 0.0143 - accuracy: 1.0000 - val_loss: 0.4247 - val_accuracy: 0.8425\n",
            "Epoch 19/25\n",
            "14/14 [==============================] - 1s 107ms/step - loss: 0.0107 - accuracy: 1.0000 - val_loss: 0.4219 - val_accuracy: 0.8219\n",
            "Epoch 20/25\n",
            "14/14 [==============================] - 2s 109ms/step - loss: 0.0072 - accuracy: 1.0000 - val_loss: 0.4114 - val_accuracy: 0.8356\n",
            "Epoch 21/25\n",
            "14/14 [==============================] - 2s 110ms/step - loss: 0.0060 - accuracy: 1.0000 - val_loss: 0.4095 - val_accuracy: 0.8288\n",
            "Epoch 22/25\n",
            "14/14 [==============================] - 2s 110ms/step - loss: 0.0060 - accuracy: 1.0000 - val_loss: 0.4008 - val_accuracy: 0.8219\n",
            "Epoch 23/25\n",
            "14/14 [==============================] - 1s 107ms/step - loss: 0.0050 - accuracy: 1.0000 - val_loss: 0.3889 - val_accuracy: 0.8219\n",
            "Epoch 24/25\n",
            "14/14 [==============================] - 2s 111ms/step - loss: 0.0045 - accuracy: 1.0000 - val_loss: 0.4056 - val_accuracy: 0.8288\n",
            "Epoch 25/25\n",
            "14/14 [==============================] - 2s 111ms/step - loss: 0.0049 - accuracy: 1.0000 - val_loss: 0.3989 - val_accuracy: 0.8288\n"
          ],
          "name": "stdout"
        }
      ]
    },
    {
      "cell_type": "code",
      "metadata": {
        "id": "98ZAnbe8EoeD",
        "colab": {
          "base_uri": "https://localhost:8080/",
          "height": 590
        },
        "outputId": "11a828c3-3e58-4564-b379-6d3daa8d4cfa"
      },
      "source": [
        "import matplotlib.pyplot as plt\n",
        "\n",
        "print(H.history.keys()) \n",
        "# summarize history for accuracy\n",
        "plt.plot(H.history['accuracy']) \n",
        "plt.plot(H.history['val_accuracy'])\n",
        "plt.title('model accuracy') \n",
        "plt.ylabel('accuracy')\n",
        "plt.xlabel('epoch') \n",
        "plt.legend(['train', 'test'], loc='upper left')\n",
        "plt.show()\n",
        "# summarize history for loss \n",
        "plt.plot(H.history['loss']) \n",
        "plt.plot(H.history['val_loss'])\n",
        "plt.title('model loss')\n",
        "plt.ylabel('loss')\n",
        "plt.xlabel('epoch')\n",
        "plt.legend(['train','test'], loc='upper left')\n",
        "plt.show()"
      ],
      "execution_count": 877,
      "outputs": [
        {
          "output_type": "stream",
          "text": [
            "dict_keys(['loss', 'accuracy', 'val_loss', 'val_accuracy'])\n"
          ],
          "name": "stdout"
        },
        {
          "output_type": "display_data",
          "data": {
            "image/png": "[encoded data removed]",
            "text/plain": [
              "<Figure size 432x288 with 1 Axes>"
            ]
          },
          "metadata": {
            "tags": [],
            "needs_background": "light"
          }
        },
        {
          "output_type": "display_data",
          "data": {
            "image/png": "[encoded data removed]",
            "text/plain": [
              "<Figure size 432x288 with 1 Axes>"
            ]
          },
          "metadata": {
            "tags": [],
            "needs_background": "light"
          }
        }
      ]
    },
    {
      "cell_type": "code",
      "metadata": {
        "colab": {
          "base_uri": "https://localhost:8080/"
        },
        "id": "jw3MiRoxEszY",
        "outputId": "56340827-00b7-4950-e1cd-44e1dcac933c"
      },
      "source": [
        "# evaluate the network\n",
        "print(\"[INFO] evaluating network...\") \n",
        "predictions = model.predict(testX, batch_size=32) \n",
        "print(classification_report(testY.argmax (axis=1),\n",
        "  predictions.argmax(axis=1), target_names=lb.classes_))"
      ],
      "execution_count": 883,
      "outputs": [
        {
          "output_type": "stream",
          "text": [
            "[INFO] evaluating network...\n",
            "WARNING:tensorflow:Model was constructed with shape (None, 22707) for input Tensor(\"flatten_83_input:0\", shape=(None, 22707), dtype=float32), but it was called on an input with incompatible shape (None, 87, 87, 3).\n",
            "WARNING:tensorflow:5 out of the last 13 calls to <function Model.make_predict_function.<locals>.predict_function at 0x7f259b9fc598> triggered tf.function retracing. Tracing is expensive and the excessive number of tracings could be due to (1) creating @tf.function repeatedly in a loop, (2) passing tensors with different shapes, (3) passing Python objects instead of tensors. For (1), please define your @tf.function outside of the loop. For (2), @tf.function has experimental_relax_shapes=True option that relaxes argument shapes that can avoid unnecessary retracing. For (3), please refer to https://www.tensorflow.org/tutorials/customization/performance#python_or_tensor_args and https://www.tensorflow.org/api_docs/python/tf/function for  more details.\n",
            "              precision    recall  f1-score   support\n",
            "\n",
            "      GMB_08       0.10      0.27      0.14        22\n",
            "      GMB_09       0.00      0.00      0.00        31\n",
            "      GMB_10       0.00      0.00      0.00        28\n",
            "      GMB_11       0.25      0.64      0.36        33\n",
            "      nonGMB       0.00      0.00      0.00        32\n",
            "\n",
            "    accuracy                           0.18       146\n",
            "   macro avg       0.07      0.18      0.10       146\n",
            "weighted avg       0.07      0.18      0.10       146\n",
            "\n"
          ],
          "name": "stdout"
        },
        {
          "output_type": "stream",
          "text": [
            "/usr/local/lib/python3.6/dist-packages/sklearn/metrics/_classification.py:1272: UndefinedMetricWarning: Precision and F-score are ill-defined and being set to 0.0 in labels with no predicted samples. Use `zero_division` parameter to control this behavior.\n",
            "  _warn_prf(average, modifier, msg_start, len(result))\n"
          ],
          "name": "stderr"
        }
      ]
    },
    {
      "cell_type": "code",
      "metadata": {
        "id": "H0O-lmkjEv0k"
      },
      "source": [
        "model.save('model_scene')"
      ],
      "execution_count": null,
      "outputs": []
    },
    {
      "cell_type": "code",
      "metadata": {
        "id": "M4s4ZBKkExv1"
      },
      "source": [
        "import cv2\n",
        "import matplotlib.pyplot as plt\n",
        "image1='Rio Ananta.jpg'"
      ],
      "execution_count": null,
      "outputs": []
    },
    {
      "cell_type": "code",
      "metadata": {
        "id": "5sLkPP4hE0WC"
      },
      "source": [
        "img_array = cv2.imread(image1)\n",
        "plt.imshow(img_array)\n",
        "plt.show()\n",
        "# print(type(img_array))"
      ],
      "execution_count": null,
      "outputs": []
    },
    {
      "cell_type": "code",
      "metadata": {
        "id": "uPXowGO6E5aR"
      },
      "source": [
        "image_testing = Image.open ('Rio Ananta.jpg')\n",
        "image_testing = np.array(image_testing.resize((87,87))) / 255.0\n",
        "image_testing.shape"
      ],
      "execution_count": null,
      "outputs": []
    },
    {
      "cell_type": "code",
      "metadata": {
        "id": "KekraI1XE5-X"
      },
      "source": [
        "image_testing = np.expand_dims(image_testing, axis=0)\n",
        "print(image_testing.shape)"
      ],
      "execution_count": null,
      "outputs": []
    },
    {
      "cell_type": "code",
      "metadata": {
        "id": "T1ttTtMnE8UM"
      },
      "source": [
        "output = model.predict(image_testing, 1)\n",
        "print(output)\n",
        "print(lb.classes_[output.argmax(axis=1)])"
      ],
      "execution_count": null,
      "outputs": []
    }
  ]
}